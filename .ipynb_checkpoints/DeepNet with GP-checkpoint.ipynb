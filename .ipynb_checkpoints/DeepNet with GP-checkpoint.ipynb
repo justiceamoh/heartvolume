{
 "cells": [
  {
   "cell_type": "markdown",
   "metadata": {},
   "source": [
    "# A Deep Neural Network + Gaussian Process Regressor for Lung Volume\n",
    "\n",
    "I am using a ConvNet in tandem with a Gaussian Process to regress 32 electrode readings into the expected lung volume measurement. Inputs are 32x224 matrices, corresponding to 32 electrodes, with 224 patterns. \n",
    "\n",
    "I also include occlusions and elevations as targets. "
   ]
  },
  {
   "cell_type": "code",
   "execution_count": 1,
   "metadata": {},
   "outputs": [],
   "source": [
    "%matplotlib inline\n",
    "\n",
    "#Basic Imports\n",
    "import os\n",
    "import numpy as np\n",
    "import matplotlib.pyplot as plt\n",
    "import pandas as pd\n",
    "import seaborn as sns\n",
    "\n",
    "# Sklearn Imports\n",
    "from sklearn.model_selection import train_test_split\n",
    "from sklearn.preprocessing import MinMaxScaler"
   ]
  },
  {
   "cell_type": "code",
   "execution_count": 3,
   "metadata": {},
   "outputs": [],
   "source": [
    "os.environ[\"CUDA_DEVICE_ORDER\"]= \"PCI_BUS_ID\"\n",
    "os.environ[\"CUDA_VISIBLE_DEVICES\"] = \"2\""
   ]
  },
  {
   "cell_type": "code",
   "execution_count": 2,
   "metadata": {},
   "outputs": [
    {
     "name": "stdout",
     "output_type": "stream",
     "text": [
      "normalized_plot.png  README.docx\ttest.csv   trainElev.csv  ypred.csv\r\n",
      "range_-0dot5.png     rescaled_plot.png\ttrain.csv  trainOccl.csv  ytest.csv\r\n"
     ]
    }
   ],
   "source": [
    "!ls data8"
   ]
  },
  {
   "cell_type": "code",
   "execution_count": 3,
   "metadata": {},
   "outputs": [],
   "source": [
    "# Load Others\n",
    "def load_data(path,test=False):\n",
    "    if not test:\n",
    "        dfile = path + '/train.csv'\n",
    "        ofile = path + '/trainOccl.csv'\n",
    "        efile = path + '/trainElev.csv'\n",
    "\n",
    "        data   = pd.read_csv(dfile,header=None).values\n",
    "        x_data = data[:,:-1].reshape((-1,32,224,1))\n",
    "        y_data = data[:, -1]\n",
    "\n",
    "        o_data = pd.read_csv(ofile,header=None).values\n",
    "        e_data = pd.read_csv(efile,header=None).values\n",
    "        return x_data,y_data,o_data,e_data\n",
    "    \n",
    "    else:\n",
    "        tfile = path + '/test.csv'\n",
    "        data   = pd.read_csv(tfile,header=None).values\n",
    "        x_data = data[:,:-1].reshape((-1,32,224,1))\n",
    "        y_data = data[:, -1]\n",
    "        return x_data,y_data"
   ]
  },
  {
   "cell_type": "code",
   "execution_count": 4,
   "metadata": {},
   "outputs": [],
   "source": [
    "# Load Data\n",
    "path  = 'data8'\n",
    "x_data,l_data,o_data,e_data=load_data(path)"
   ]
  },
  {
   "cell_type": "code",
   "execution_count": 5,
   "metadata": {},
   "outputs": [],
   "source": [
    "# Scale Data\n",
    "ysclr  = MinMaxScaler(feature_range=(0,0.5)).fit(l_data.reshape(-1,1))\n",
    "y_data = ysclr.transform(l_data.reshape(-1,1)).squeeze()\n",
    "o_data = o_data/100.\n",
    "e_data = e_data.squeeze()"
   ]
  },
  {
   "cell_type": "code",
   "execution_count": 6,
   "metadata": {},
   "outputs": [],
   "source": [
    "x_train,x_valid,\\\n",
    "y_train,y_valid,\\\n",
    "o_train,o_valid,\\\n",
    "e_train,e_valid = train_test_split(x_data,\n",
    "                                   y_data,\n",
    "                                   o_data,\n",
    "                                   e_data,\n",
    "                                   test_size=0.30,random_state=32)"
   ]
  },
  {
   "cell_type": "markdown",
   "metadata": {},
   "source": [
    "## Regressor Model"
   ]
  },
  {
   "cell_type": "code",
   "execution_count": 7,
   "metadata": {},
   "outputs": [
    {
     "name": "stderr",
     "output_type": "stream",
     "text": [
      "/home/junior/anaconda2/lib/python2.7/site-packages/h5py/__init__.py:36: FutureWarning: Conversion of the second argument of issubdtype from `float` to `np.floating` is deprecated. In future, it will be treated as `np.float64 == np.dtype(float).type`.\n",
      "  from ._conv import register_converters as _register_converters\n",
      "Using TensorFlow backend.\n"
     ]
    }
   ],
   "source": [
    "# Keras Imports\n",
    "from keras.models import Model, load_model\n",
    "from keras.layers import Input, Dense, Lambda, AveragePooling2D, UpSampling2D\n",
    "from keras.layers import Flatten, Reshape,Dropout, BatchNormalization\n",
    "from keras.layers.convolutional import Conv2D\n",
    "from keras.layers.advanced_activations import PReLU\n",
    "from keras import regularizers\n",
    "from keras import backend as K\n",
    "from keras.callbacks import CSVLogger, EarlyStopping, ModelCheckpoint\n",
    "from keras.callbacks import TensorBoard"
   ]
  },
  {
   "cell_type": "code",
   "execution_count": 8,
   "metadata": {},
   "outputs": [],
   "source": [
    "## Training Params\n",
    "num_batch = 16\n",
    "num_epoch = 30\n",
    "patience  = 10\n",
    "\n",
    "# Parameters\n",
    "# ndim = x_train.shape[1]\n",
    "npat,ndim,_ = x_train.shape[1:]\n",
    "L1   = 127\n",
    "L2   = 169\n",
    "L3   = 16"
   ]
  },
  {
   "cell_type": "code",
   "execution_count": 9,
   "metadata": {},
   "outputs": [],
   "source": [
    "# # Build DNN\n",
    "# def build_model():\n",
    "#     x = Input(shape=(npat,ndim,1),name='Input')\n",
    "#     h = Conv2D(28,activation='relu',kernel_size=(3,5),strides=(2,3),padding='same',name='L1')(x)\n",
    "#     h = BatchNormalization()(h)\n",
    "#     h = Conv2D(16,activation='relu',kernel_size=(3,3),strides=(2,3),padding='same',name='L2')(h)\n",
    "#     h = BatchNormalization()(h)\n",
    "#     h = Conv2D(15,activation='relu',kernel_size=(3,3),strides=(1,3),padding='same',name='L3')(h)\n",
    "#     h = BatchNormalization()(h)\n",
    "#     h = AveragePooling2D((2,2),strides=(2,2))(h)\n",
    "#     h = Flatten()(h)\n",
    "    \n",
    "    \n",
    "#     # Lung Volume\n",
    "#     y = Dense(7,activation='linear',name='L4')(h)\n",
    "#     y = Dense(1,activation='linear',name='YOutput')(y)\n",
    "#     ymodel = Model(x,y)\n",
    "    \n",
    "#     # Occlusion\n",
    "#     o = Dense(10,activation='linear',name='O4')(h)\n",
    "#     o = Dense(32,activation='relu',name='OOutput')(o)\n",
    "    \n",
    "#     # Elevation\n",
    "#     e = Dense(5,activation='linear',name='E4')(h)\n",
    "#     e = Dense(1, activation='linear',name='EOutput')(e)\n",
    "#     cmodel = Model(inputs=[x],outputs=[y,o,e])\n",
    "    \n",
    "#     return ymodel, cmodel"
   ]
  },
  {
   "cell_type": "code",
   "execution_count": 10,
   "metadata": {},
   "outputs": [],
   "source": [
    "# Build DNN\n",
    "def build_model():\n",
    "    x = Input(shape=(npat,ndim,1),name='Input')\n",
    "    h = Conv2D(28,activation='relu',kernel_size=(3,5),strides=(2,3),padding='same',name='L1')(x)\n",
    "    h = BatchNormalization()(h)\n",
    "    h = Conv2D(16,activation='relu',kernel_size=(3,3),strides=(2,3),padding='same',name='L2')(h)\n",
    "    h = BatchNormalization()(h)\n",
    "    h = Conv2D(15,activation='relu',kernel_size=(3,3),strides=(1,3),padding='same',name='L3')(h)\n",
    "    h = BatchNormalization()(h)\n",
    "    h = AveragePooling2D((2,2),strides=(2,2))(h)\n",
    "    h = Flatten()(h)\n",
    "    h = Dense(7,activation='linear',name='L4')(h)\n",
    "    y = Dense(1,activation='linear',name='Output')(h)\n",
    "    model   = Model(x,y)\n",
    "    encoder = Model(x,h) \n",
    "    return model, encoder"
   ]
  },
  {
   "cell_type": "code",
   "execution_count": 11,
   "metadata": {},
   "outputs": [],
   "source": [
    "# # Compile Model\n",
    "# model,cmodel = build_model()\n",
    "# model.compile(optimizer='adam',loss='mean_squared_error')\n",
    "# cmodel.compile(optimizer='adam', \n",
    "#                loss=['mean_squared_error','categorical_crossentropy','mean_squared_error'],\n",
    "#                loss_weights=[0.7,0.15,0.15])\n",
    "# model.summary()"
   ]
  },
  {
   "cell_type": "code",
   "execution_count": 12,
   "metadata": {},
   "outputs": [
    {
     "name": "stdout",
     "output_type": "stream",
     "text": [
      "_________________________________________________________________\n",
      "Layer (type)                 Output Shape              Param #   \n",
      "=================================================================\n",
      "Input (InputLayer)           (None, 32, 224, 1)        0         \n",
      "_________________________________________________________________\n",
      "L1 (Conv2D)                  (None, 16, 75, 28)        448       \n",
      "_________________________________________________________________\n",
      "batch_normalization_1 (Batch (None, 16, 75, 28)        112       \n",
      "_________________________________________________________________\n",
      "L2 (Conv2D)                  (None, 8, 25, 16)         4048      \n",
      "_________________________________________________________________\n",
      "batch_normalization_2 (Batch (None, 8, 25, 16)         64        \n",
      "_________________________________________________________________\n",
      "L3 (Conv2D)                  (None, 8, 9, 15)          2175      \n",
      "_________________________________________________________________\n",
      "batch_normalization_3 (Batch (None, 8, 9, 15)          60        \n",
      "_________________________________________________________________\n",
      "average_pooling2d_1 (Average (None, 4, 4, 15)          0         \n",
      "_________________________________________________________________\n",
      "flatten_1 (Flatten)          (None, 240)               0         \n",
      "_________________________________________________________________\n",
      "L4 (Dense)                   (None, 7)                 1687      \n",
      "_________________________________________________________________\n",
      "Output (Dense)               (None, 1)                 8         \n",
      "=================================================================\n",
      "Total params: 8,602\n",
      "Trainable params: 8,484\n",
      "Non-trainable params: 118\n",
      "_________________________________________________________________\n"
     ]
    }
   ],
   "source": [
    "# Compile Model\n",
    "cnn_model,encoder = build_model()\n",
    "encoder.compile(optimizer='adam', loss='mean_squared_error')\n",
    "\n",
    "cnn_model.compile(optimizer='adam', loss='mean_squared_error')\n",
    "cnn_model.summary()"
   ]
  },
  {
   "cell_type": "code",
   "execution_count": 13,
   "metadata": {},
   "outputs": [
    {
     "name": "stdout",
     "output_type": "stream",
     "text": [
      "Train on 53900 samples, validate on 23100 samples\n",
      "Epoch 1/30\n",
      "53900/53900 [==============================] - 34s 637us/step - loss: 0.0208 - val_loss: 0.0065\n",
      "Epoch 2/30\n",
      "53900/53900 [==============================] - 16s 306us/step - loss: 0.0049 - val_loss: 0.0032\n",
      "Epoch 3/30\n",
      "53900/53900 [==============================] - 17s 312us/step - loss: 0.0028 - val_loss: 0.0022\n",
      "Epoch 4/30\n",
      "53900/53900 [==============================] - 17s 311us/step - loss: 0.0021 - val_loss: 0.0016\n",
      "Epoch 5/30\n",
      "53900/53900 [==============================] - 17s 319us/step - loss: 0.0017 - val_loss: 0.0012\n",
      "Epoch 6/30\n",
      "53900/53900 [==============================] - 17s 321us/step - loss: 0.0014 - val_loss: 0.0013\n",
      "Epoch 7/30\n",
      "53900/53900 [==============================] - 17s 317us/step - loss: 0.0013 - val_loss: 0.0011\n",
      "Epoch 8/30\n",
      "53900/53900 [==============================] - 17s 321us/step - loss: 0.0011 - val_loss: 0.0010\n",
      "Epoch 9/30\n",
      "53900/53900 [==============================] - 17s 309us/step - loss: 0.0011 - val_loss: 0.0010\n",
      "Epoch 10/30\n",
      "53900/53900 [==============================] - 17s 315us/step - loss: 9.7552e-04 - val_loss: 8.9272e-04\n",
      "Epoch 11/30\n",
      "53900/53900 [==============================] - 17s 321us/step - loss: 9.3081e-04 - val_loss: 9.4810e-04\n",
      "Epoch 12/30\n",
      "53900/53900 [==============================] - 17s 309us/step - loss: 8.8404e-04 - val_loss: 7.2874e-04\n",
      "Epoch 13/30\n",
      "53900/53900 [==============================] - 17s 313us/step - loss: 8.3965e-04 - val_loss: 7.0194e-04\n",
      "Epoch 14/30\n",
      "53900/53900 [==============================] - 17s 323us/step - loss: 8.0806e-04 - val_loss: 8.1633e-04\n",
      "Epoch 15/30\n",
      "53900/53900 [==============================] - 17s 322us/step - loss: 7.7512e-04 - val_loss: 6.5716e-04\n",
      "Epoch 16/30\n",
      "53900/53900 [==============================] - 17s 318us/step - loss: 7.5135e-04 - val_loss: 7.7772e-04\n",
      "Epoch 17/30\n",
      "53900/53900 [==============================] - 18s 336us/step - loss: 7.2958e-04 - val_loss: 6.7446e-04\n",
      "Epoch 18/30\n",
      "53900/53900 [==============================] - 17s 310us/step - loss: 7.1185e-04 - val_loss: 5.8386e-04\n",
      "Epoch 19/30\n",
      "53900/53900 [==============================] - 17s 315us/step - loss: 6.8638e-04 - val_loss: 6.7334e-04\n",
      "Epoch 20/30\n",
      "53900/53900 [==============================] - 17s 320us/step - loss: 6.6919e-04 - val_loss: 5.7033e-04\n",
      "Epoch 21/30\n",
      "53900/53900 [==============================] - 17s 324us/step - loss: 6.4978e-04 - val_loss: 6.0460e-04\n",
      "Epoch 22/30\n",
      "53900/53900 [==============================] - 17s 318us/step - loss: 6.4234e-04 - val_loss: 5.2566e-04\n",
      "Epoch 23/30\n",
      "53900/53900 [==============================] - 19s 352us/step - loss: 6.3232e-04 - val_loss: 6.0517e-04\n",
      "Epoch 24/30\n",
      "53900/53900 [==============================] - 17s 320us/step - loss: 6.2116e-04 - val_loss: 5.5206e-04\n",
      "Epoch 25/30\n",
      "53900/53900 [==============================] - 17s 320us/step - loss: 6.0729e-04 - val_loss: 5.6132e-04\n",
      "Epoch 26/30\n",
      "53900/53900 [==============================] - 17s 321us/step - loss: 5.9390e-04 - val_loss: 6.5252e-04\n",
      "Epoch 27/30\n",
      "53900/53900 [==============================] - 17s 318us/step - loss: 5.7888e-04 - val_loss: 5.9960e-04\n",
      "Epoch 28/30\n",
      "53900/53900 [==============================] - 18s 325us/step - loss: 5.6994e-04 - val_loss: 6.7135e-04\n",
      "Epoch 29/30\n",
      "53900/53900 [==============================] - 17s 321us/step - loss: 5.6478e-04 - val_loss: 4.7516e-04\n",
      "Epoch 30/30\n",
      "53900/53900 [==============================] - 17s 318us/step - loss: 5.5201e-04 - val_loss: 5.5140e-04\n"
     ]
    }
   ],
   "source": [
    "# Train\n",
    "log = cnn_model.fit(x_train, y_train,\n",
    "                batch_size=num_batch,\n",
    "                epochs=num_epoch,\n",
    "                shuffle=True,\n",
    "                validation_data=(x_valid,y_valid))"
   ]
  },
  {
   "cell_type": "code",
   "execution_count": 14,
   "metadata": {},
   "outputs": [],
   "source": [
    "# encoder.save('encoding_model.h5')\n",
    "# model = load_model(modelname)"
   ]
  },
  {
   "cell_type": "code",
   "execution_count": 15,
   "metadata": {
    "scrolled": false
   },
   "outputs": [
    {
     "data": {
      "text/plain": [
       "<matplotlib.legend.Legend at 0x7f5c79d9f710>"
      ]
     },
     "execution_count": 15,
     "metadata": {},
     "output_type": "execute_result"
    },
    {
     "data": {
      "image/png": "[encoded data removed]",
      "text/plain": [
       "<matplotlib.figure.Figure at 0x7f5c79dad690>"
      ]
     },
     "metadata": {},
     "output_type": "display_data"
    }
   ],
   "source": [
    "# Training Curves\n",
    "plt.figure(figsize=(5,4))\n",
    "plt.plot(log.epoch,log.history['loss'])\n",
    "plt.plot(log.epoch,log.history['val_loss'],'g')\n",
    "plt.title('Training Curves')\n",
    "# plt.ylim([0,0.05])\n",
    "plt.xlabel('Epochs')\n",
    "plt.xlabel('MSE Loss')\n",
    "plt.legend(['Train','Valid'])"
   ]
  },
  {
   "cell_type": "code",
   "execution_count": 16,
   "metadata": {},
   "outputs": [],
   "source": [
    "# Generate Predictions for Test Set\n",
    "x_test,y_test = load_data(path,test=True)\n",
    "y_test = ysclr.transform(y_test.reshape(-1,1)).squeeze()\n",
    "y_predict = cnn_model.predict(x_test)\n",
    "loss = cnn_model.evaluate(x_test,y_test,verbose=0)"
   ]
  },
  {
   "cell_type": "code",
   "execution_count": 17,
   "metadata": {},
   "outputs": [
    {
     "data": {
      "image/png": "[encoded data removed]",
      "text/plain": [
       "<matplotlib.figure.Figure at 0x7f5c79c4a4d0>"
      ]
     },
     "metadata": {},
     "output_type": "display_data"
    }
   ],
   "source": [
    "# Plot Results\n",
    "plt.figure(figsize=(10,6))\n",
    "plt.subplot(111)\n",
    "plt.plot(y_test,'o-',alpha=0.5)\n",
    "plt.plot(y_predict,'go-')\n",
    "header = '{0}, mse={1:.04f}'.format(path,loss)\n",
    "plt.title(header)\n",
    "\n",
    "plt.legend(['Original','Predicted'],loc=1)\n",
    "plt.tight_layout()"
   ]
  },
  {
   "cell_type": "code",
   "execution_count": 24,
   "metadata": {
    "scrolled": false
   },
   "outputs": [],
   "source": [
    "# Save Values\n",
    "y_tst = ysclr.inverse_transform(y_test.reshape(-1,1)).squeeze()\n",
    "y_prd = ysclr.inverse_transform(y_predict.reshape(-1,1)).squeeze()\n",
    "\n",
    "oname = path + '/ypred.csv'\n",
    "tname = path + '/ytest.csv'\n",
    "np.savetxt(oname,y_predict,delimiter=',')\n",
    "np.savetxt(tname,y_test,delimiter=',')"
   ]
  },
  {
   "cell_type": "markdown",
   "metadata": {},
   "source": [
    "----"
   ]
  },
  {
   "cell_type": "markdown",
   "metadata": {},
   "source": [
    "# Regression Models"
   ]
  },
  {
   "cell_type": "code",
   "execution_count": null,
   "metadata": {},
   "outputs": [],
   "source": [
    "import xgboost as xgb"
   ]
  },
  {
   "cell_type": "code",
   "execution_count": null,
   "metadata": {},
   "outputs": [],
   "source": [
    "# Get Encoded Training Data\n",
    "xe_data = encoder.predict(x_data)\n",
    "# e_vdata = encoder.predict(x_valid)"
   ]
  },
  {
   "cell_type": "code",
   "execution_count": null,
   "metadata": {},
   "outputs": [],
   "source": [
    "l_data.shape"
   ]
  },
  {
   "cell_type": "code",
   "execution_count": null,
   "metadata": {},
   "outputs": [],
   "source": [
    "xe_data.shape"
   ]
  },
  {
   "cell_type": "code",
   "execution_count": null,
   "metadata": {},
   "outputs": [],
   "source": [
    "sindx = np.random.permutation(len(l_data))"
   ]
  },
  {
   "cell_type": "code",
   "execution_count": null,
   "metadata": {},
   "outputs": [],
   "source": [
    "y_data.shape"
   ]
  },
  {
   "cell_type": "code",
   "execution_count": null,
   "metadata": {},
   "outputs": [],
   "source": [
    "x_data.shape"
   ]
  },
  {
   "cell_type": "code",
   "execution_count": null,
   "metadata": {},
   "outputs": [],
   "source": [
    "xgb_model = xgb.XGBRegressor(max_depth=10,learning_rate=0.01,n_estimators=350,silent=False,n_jobs=4)\n",
    "xgb_model.fit(xe_data[sindx],l_data[sindx])"
   ]
  },
  {
   "cell_type": "code",
   "execution_count": null,
   "metadata": {},
   "outputs": [],
   "source": [
    "## Test\n",
    "xe_test = encoder.predict(x_test)\n",
    "y_pred  = xgb_model.predict(xe_test)"
   ]
  },
  {
   "cell_type": "code",
   "execution_count": null,
   "metadata": {},
   "outputs": [],
   "source": [
    "# Plot Results\n",
    "plt.figure(figsize=(10,6))\n",
    "\n",
    "plt.subplot(111)\n",
    "plt.plot(y_test,'o-',alpha=0.5)\n",
    "plt.plot(y_pred,'go-')\n",
    "# header = '{0}, mse={1:.04f}'.format(path,loss)\n",
    "# plt.title(header)"
   ]
  },
  {
   "cell_type": "raw",
   "metadata": {},
   "source": [
    "# Gaussian Process Regression"
   ]
  },
  {
   "cell_type": "code",
   "execution_count": null,
   "metadata": {},
   "outputs": [],
   "source": [
    "from sklearn.gaussian_process import GaussianProcessRegressor\n",
    "from sklearn.gaussian_process.kernels import RBF, Matern, WhiteKernel, ConstantKernel as C"
   ]
  },
  {
   "cell_type": "code",
   "execution_count": null,
   "metadata": {},
   "outputs": [],
   "source": [
    "e_tdata.shape"
   ]
  },
  {
   "cell_type": "code",
   "execution_count": null,
   "metadata": {},
   "outputs": [],
   "source": [
    "kernel = C() + Matern(length_scale=2, nu=3/2) + WhiteKernel(noise_level=1)\n",
    "gp = GaussianProcessRegressor(kernel=kernel,random_state=32,copy_X_train=False)\n",
    "gp.fit(e_tdata,y_train)"
   ]
  },
  {
   "cell_type": "code",
   "execution_count": null,
   "metadata": {},
   "outputs": [],
   "source": []
  }
 ],
 "metadata": {
  "anaconda-cloud": {},
  "kernelspec": {
   "display_name": "Python 2",
   "language": "python",
   "name": "python2"
  },
  "language_info": {
   "codemirror_mode": {
    "name": "ipython",
    "version": 2
   },
   "file_extension": ".py",
   "mimetype": "text/x-python",
   "name": "python",
   "nbconvert_exporter": "python",
   "pygments_lexer": "ipython2",
   "version": "2.7.14"
  }
 },
 "nbformat": 4,
 "nbformat_minor": 1
}
