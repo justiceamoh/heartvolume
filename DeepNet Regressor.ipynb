{
 "cells": [
  {
   "cell_type": "markdown",
   "metadata": {},
   "source": [
    "# A Deep Neural Network Regressor\n",
    "\n",
    "My first stab at this task will be to implement an **DNN Regressor** model."
   ]
  },
  {
   "cell_type": "code",
   "execution_count": 1,
   "metadata": {
    "collapsed": false
   },
   "outputs": [],
   "source": [
    "%matplotlib inline\n",
    "\n",
    "#Basic Imports\n",
    "import numpy as np\n",
    "import matplotlib.pyplot as plt\n",
    "import pandas as pd\n",
    "import seaborn as sns\n",
    "\n",
    "# Sklearn Imports\n",
    "from sklearn.model_selection import train_test_split"
   ]
  },
  {
   "cell_type": "code",
   "execution_count": 2,
   "metadata": {
    "collapsed": false
   },
   "outputs": [
    {
     "data": {
      "text/html": [
       "<div>\n",
       "<table border=\"1\" class=\"dataframe\">\n",
       "  <thead>\n",
       "    <tr style=\"text-align: right;\">\n",
       "      <th></th>\n",
       "      <th>0</th>\n",
       "      <th>1</th>\n",
       "      <th>2</th>\n",
       "      <th>3</th>\n",
       "      <th>4</th>\n",
       "      <th>5</th>\n",
       "      <th>6</th>\n",
       "      <th>7</th>\n",
       "      <th>8</th>\n",
       "      <th>9</th>\n",
       "      <th>...</th>\n",
       "      <th>1559</th>\n",
       "      <th>1560</th>\n",
       "      <th>1561</th>\n",
       "      <th>1562</th>\n",
       "      <th>1563</th>\n",
       "      <th>1564</th>\n",
       "      <th>1565</th>\n",
       "      <th>1566</th>\n",
       "      <th>1567</th>\n",
       "      <th>1568</th>\n",
       "    </tr>\n",
       "  </thead>\n",
       "  <tbody>\n",
       "    <tr>\n",
       "      <th>0</th>\n",
       "      <td>0.0</td>\n",
       "      <td>0.0</td>\n",
       "      <td>0.0</td>\n",
       "      <td>0.0</td>\n",
       "      <td>0.0</td>\n",
       "      <td>0.0</td>\n",
       "      <td>0.0</td>\n",
       "      <td>0.0</td>\n",
       "      <td>0.0</td>\n",
       "      <td>0.0</td>\n",
       "      <td>...</td>\n",
       "      <td>0.0</td>\n",
       "      <td>0.0</td>\n",
       "      <td>0.0</td>\n",
       "      <td>0.0</td>\n",
       "      <td>0.0</td>\n",
       "      <td>0.0</td>\n",
       "      <td>0.0</td>\n",
       "      <td>0.0</td>\n",
       "      <td>0.0</td>\n",
       "      <td>0.0</td>\n",
       "    </tr>\n",
       "    <tr>\n",
       "      <th>1</th>\n",
       "      <td>0.0</td>\n",
       "      <td>0.0</td>\n",
       "      <td>0.0</td>\n",
       "      <td>0.0</td>\n",
       "      <td>0.0</td>\n",
       "      <td>0.0</td>\n",
       "      <td>0.0</td>\n",
       "      <td>0.0</td>\n",
       "      <td>0.0</td>\n",
       "      <td>0.0</td>\n",
       "      <td>...</td>\n",
       "      <td>0.0</td>\n",
       "      <td>0.0</td>\n",
       "      <td>0.0</td>\n",
       "      <td>0.0</td>\n",
       "      <td>0.0</td>\n",
       "      <td>0.0</td>\n",
       "      <td>0.0</td>\n",
       "      <td>0.0</td>\n",
       "      <td>0.0</td>\n",
       "      <td>0.0</td>\n",
       "    </tr>\n",
       "    <tr>\n",
       "      <th>2</th>\n",
       "      <td>0.0</td>\n",
       "      <td>0.0</td>\n",
       "      <td>0.0</td>\n",
       "      <td>0.0</td>\n",
       "      <td>0.0</td>\n",
       "      <td>0.0</td>\n",
       "      <td>0.0</td>\n",
       "      <td>0.0</td>\n",
       "      <td>0.0</td>\n",
       "      <td>0.0</td>\n",
       "      <td>...</td>\n",
       "      <td>0.0</td>\n",
       "      <td>0.0</td>\n",
       "      <td>0.0</td>\n",
       "      <td>0.0</td>\n",
       "      <td>0.0</td>\n",
       "      <td>0.0</td>\n",
       "      <td>0.0</td>\n",
       "      <td>0.0</td>\n",
       "      <td>0.0</td>\n",
       "      <td>0.0</td>\n",
       "    </tr>\n",
       "    <tr>\n",
       "      <th>3</th>\n",
       "      <td>0.0</td>\n",
       "      <td>0.0</td>\n",
       "      <td>0.0</td>\n",
       "      <td>0.0</td>\n",
       "      <td>0.0</td>\n",
       "      <td>0.0</td>\n",
       "      <td>0.0</td>\n",
       "      <td>0.0</td>\n",
       "      <td>0.0</td>\n",
       "      <td>0.0</td>\n",
       "      <td>...</td>\n",
       "      <td>0.0</td>\n",
       "      <td>0.0</td>\n",
       "      <td>0.0</td>\n",
       "      <td>0.0</td>\n",
       "      <td>0.0</td>\n",
       "      <td>0.0</td>\n",
       "      <td>0.0</td>\n",
       "      <td>0.0</td>\n",
       "      <td>0.0</td>\n",
       "      <td>0.0</td>\n",
       "    </tr>\n",
       "    <tr>\n",
       "      <th>4</th>\n",
       "      <td>0.0</td>\n",
       "      <td>0.0</td>\n",
       "      <td>0.0</td>\n",
       "      <td>0.0</td>\n",
       "      <td>0.0</td>\n",
       "      <td>0.0</td>\n",
       "      <td>0.0</td>\n",
       "      <td>0.0</td>\n",
       "      <td>0.0</td>\n",
       "      <td>0.0</td>\n",
       "      <td>...</td>\n",
       "      <td>0.0</td>\n",
       "      <td>0.0</td>\n",
       "      <td>0.0</td>\n",
       "      <td>0.0</td>\n",
       "      <td>0.0</td>\n",
       "      <td>0.0</td>\n",
       "      <td>0.0</td>\n",
       "      <td>0.0</td>\n",
       "      <td>0.0</td>\n",
       "      <td>0.0</td>\n",
       "    </tr>\n",
       "  </tbody>\n",
       "</table>\n",
       "<p>5 rows × 1569 columns</p>\n",
       "</div>"
      ],
      "text/plain": [
       "   0     1     2     3     4     5     6     7     8     9     ...   1559  \\\n",
       "0   0.0   0.0   0.0   0.0   0.0   0.0   0.0   0.0   0.0   0.0  ...    0.0   \n",
       "1   0.0   0.0   0.0   0.0   0.0   0.0   0.0   0.0   0.0   0.0  ...    0.0   \n",
       "2   0.0   0.0   0.0   0.0   0.0   0.0   0.0   0.0   0.0   0.0  ...    0.0   \n",
       "3   0.0   0.0   0.0   0.0   0.0   0.0   0.0   0.0   0.0   0.0  ...    0.0   \n",
       "4   0.0   0.0   0.0   0.0   0.0   0.0   0.0   0.0   0.0   0.0  ...    0.0   \n",
       "\n",
       "   1560  1561  1562  1563  1564  1565  1566  1567  1568  \n",
       "0   0.0   0.0   0.0   0.0   0.0   0.0   0.0   0.0   0.0  \n",
       "1   0.0   0.0   0.0   0.0   0.0   0.0   0.0   0.0   0.0  \n",
       "2   0.0   0.0   0.0   0.0   0.0   0.0   0.0   0.0   0.0  \n",
       "3   0.0   0.0   0.0   0.0   0.0   0.0   0.0   0.0   0.0  \n",
       "4   0.0   0.0   0.0   0.0   0.0   0.0   0.0   0.0   0.0  \n",
       "\n",
       "[5 rows x 1569 columns]"
      ]
     },
     "execution_count": 2,
     "metadata": {},
     "output_type": "execute_result"
    }
   ],
   "source": [
    "df = pd.read_csv('train.csv',header=None)\n",
    "df.head()"
   ]
  },
  {
   "cell_type": "code",
   "execution_count": 3,
   "metadata": {
    "collapsed": false,
    "scrolled": true
   },
   "outputs": [
    {
     "name": "stdout",
     "output_type": "stream",
     "text": [
      "<class 'pandas.core.frame.DataFrame'>\n",
      "RangeIndex: 40824 entries, 0 to 40823\n",
      "Columns: 1569 entries, 0 to 1568\n",
      "dtypes: float64(1569)\n",
      "memory usage: 488.7 MB\n"
     ]
    }
   ],
   "source": [
    "df.info()"
   ]
  },
  {
   "cell_type": "code",
   "execution_count": 4,
   "metadata": {
    "collapsed": true
   },
   "outputs": [],
   "source": [
    "# Data load function\n",
    "def load_data(filename):\n",
    "    data   = pd.read_csv(filename,header=None)\n",
    "    x_data = data.iloc[:,:-1].values\n",
    "    y_data = data.iloc[:,-1].values\n",
    "#     print 'X shape:', x_data.shape\n",
    "#     print 'Y shape:', y_data.shape\n",
    "    return x_data,y_data"
   ]
  },
  {
   "cell_type": "code",
   "execution_count": 5,
   "metadata": {
    "collapsed": false
   },
   "outputs": [],
   "source": [
    "filename = 'train.csv'\n",
    "x_train,y_train=load_data(filename)\n",
    "x_train,x_valid,y_train,y_valid = train_test_split(x_train,y_train,test_size=0.3,random_state=32)"
   ]
  },
  {
   "cell_type": "markdown",
   "metadata": {},
   "source": [
    "## Regressor Model"
   ]
  },
  {
   "cell_type": "code",
   "execution_count": 6,
   "metadata": {
    "collapsed": false
   },
   "outputs": [
    {
     "name": "stderr",
     "output_type": "stream",
     "text": [
      "Using TensorFlow backend.\n"
     ]
    }
   ],
   "source": [
    "# Keras Imports\n",
    "# Keras Imports\n",
    "from keras.models import Model, load_model\n",
    "from keras.layers import Input, Dense, Lambda\n",
    "from keras.layers import Flatten, Reshape, GaussianDropout\n",
    "from keras import backend as K\n",
    "from keras.callbacks import TensorBoard"
   ]
  },
  {
   "cell_type": "code",
   "execution_count": 7,
   "metadata": {
    "collapsed": true
   },
   "outputs": [],
   "source": [
    "# Parameters\n",
    "ndim = x_train.shape[1]\n",
    "L1   = 320\n",
    "L2   = 256\n",
    "L3   = 100\n",
    "L4   = 32"
   ]
  },
  {
   "cell_type": "code",
   "execution_count": 8,
   "metadata": {
    "collapsed": true
   },
   "outputs": [],
   "source": [
    "# Build Autoencoder\n",
    "def build_model():\n",
    "    x = Input(shape=(ndim,),name='Input')\n",
    "    h = Dense(L1,activation='relu',name='L1')(x)\n",
    "    h = Dense(L2,activation='relu',name='L2')(h)\n",
    "    h = Dense(L3,activation='relu',name='L3')(h)\n",
    "    h = Dense(L4,activation='relu',name='L4')(h)\n",
    "    y = Dense(1,activation='linear',name='Output')(h)\n",
    "    model = Model(x,y)\n",
    "    return model"
   ]
  },
  {
   "cell_type": "code",
   "execution_count": 9,
   "metadata": {
    "collapsed": false
   },
   "outputs": [
    {
     "name": "stdout",
     "output_type": "stream",
     "text": [
      "_________________________________________________________________\n",
      "Layer (type)                 Output Shape              Param #   \n",
      "=================================================================\n",
      "Input (InputLayer)           (None, 1568)              0         \n",
      "_________________________________________________________________\n",
      "L1 (Dense)                   (None, 320)               502080    \n",
      "_________________________________________________________________\n",
      "L2 (Dense)                   (None, 256)               82176     \n",
      "_________________________________________________________________\n",
      "L3 (Dense)                   (None, 100)               25700     \n",
      "_________________________________________________________________\n",
      "L4 (Dense)                   (None, 32)                3232      \n",
      "_________________________________________________________________\n",
      "Output (Dense)               (None, 1)                 33        \n",
      "=================================================================\n",
      "Total params: 613,221\n",
      "Trainable params: 613,221\n",
      "Non-trainable params: 0\n",
      "_________________________________________________________________\n"
     ]
    }
   ],
   "source": [
    "# Compile Model\n",
    "model = build_model()\n",
    "model.summary()\n",
    "model.compile(optimizer='adam',loss='mean_squared_error')"
   ]
  },
  {
   "cell_type": "code",
   "execution_count": 10,
   "metadata": {
    "collapsed": false
   },
   "outputs": [
    {
     "name": "stdout",
     "output_type": "stream",
     "text": [
      "Train on 28576 samples, validate on 12248 samples\n",
      "Epoch 1/30\n",
      "28576/28576 [==============================] - 2s - loss: 1.2044 - val_loss: 0.9336\n",
      "Epoch 2/30\n",
      "28576/28576 [==============================] - 2s - loss: 0.1187 - val_loss: 0.1962\n",
      "Epoch 3/30\n",
      "28576/28576 [==============================] - 2s - loss: 0.0046 - val_loss: 8.4879e-04\n",
      "Epoch 4/30\n",
      "28576/28576 [==============================] - 2s - loss: 0.2102 - val_loss: 0.0011\n",
      "Epoch 5/30\n",
      "28576/28576 [==============================] - 2s - loss: 7.0552e-04 - val_loss: 3.1897e-04\n",
      "Epoch 6/30\n",
      "28576/28576 [==============================] - 2s - loss: 5.5020e-04 - val_loss: 4.4337e-04\n",
      "Epoch 7/30\n",
      "28576/28576 [==============================] - 2s - loss: 5.7542e-04 - val_loss: 1.1779e-04\n",
      "Epoch 8/30\n",
      "28576/28576 [==============================] - 2s - loss: 9.0720e-04 - val_loss: 2.0162e-04\n",
      "Epoch 9/30\n",
      "28576/28576 [==============================] - 2s - loss: 0.0011 - val_loss: 4.4330e-05\n",
      "Epoch 10/30\n",
      "28576/28576 [==============================] - 2s - loss: 0.0023 - val_loss: 1.5814e-04\n",
      "Epoch 11/30\n",
      "28576/28576 [==============================] - 2s - loss: 0.0020 - val_loss: 4.8168e-05\n",
      "Epoch 12/30\n",
      "28576/28576 [==============================] - 2s - loss: 0.0013 - val_loss: 2.7654e-05\n",
      "Epoch 13/30\n",
      "28576/28576 [==============================] - 2s - loss: 6.7432e-04 - val_loss: 1.3617e-05\n",
      "Epoch 14/30\n",
      "28576/28576 [==============================] - 2s - loss: 0.0112 - val_loss: 8.6067e-05\n",
      "Epoch 15/30\n",
      "28576/28576 [==============================] - 2s - loss: 1.2482e-04 - val_loss: 4.8854e-05\n",
      "Epoch 16/30\n",
      "28576/28576 [==============================] - 2s - loss: 3.2782e-04 - val_loss: 4.4808e-05\n",
      "Epoch 17/30\n",
      "28576/28576 [==============================] - 2s - loss: 0.0014 - val_loss: 1.0681e-04\n",
      "Epoch 18/30\n",
      "28576/28576 [==============================] - 2s - loss: 4.4599e-04 - val_loss: 2.8836e-05\n",
      "Epoch 19/30\n",
      "28576/28576 [==============================] - 2s - loss: 5.5804e-04 - val_loss: 0.0049\n",
      "Epoch 20/30\n",
      "28576/28576 [==============================] - 2s - loss: 1.7155e-04 - val_loss: 1.0720e-05\n",
      "Epoch 21/30\n",
      "28576/28576 [==============================] - 2s - loss: 4.4626e-04 - val_loss: 8.0096e-06\n",
      "Epoch 22/30\n",
      "28576/28576 [==============================] - 2s - loss: 9.8086e-04 - val_loss: 7.0169e-06\n",
      "Epoch 23/30\n",
      "28576/28576 [==============================] - 2s - loss: 5.8108e-05 - val_loss: 0.0019\n",
      "Epoch 24/30\n",
      "28576/28576 [==============================] - 2s - loss: 6.6561e-04 - val_loss: 9.2824e-05\n",
      "Epoch 25/30\n",
      "28576/28576 [==============================] - 2s - loss: 1.6106e-04 - val_loss: 3.1896e-04\n",
      "Epoch 26/30\n",
      "28576/28576 [==============================] - 2s - loss: 2.4887e-04 - val_loss: 1.1574e-05\n",
      "Epoch 27/30\n",
      "28576/28576 [==============================] - 2s - loss: 2.6136e-04 - val_loss: 1.0962e-05\n",
      "Epoch 28/30\n",
      "28576/28576 [==============================] - 2s - loss: 5.5158e-04 - val_loss: 3.4230e-06\n",
      "Epoch 29/30\n",
      "28576/28576 [==============================] - 2s - loss: 1.5401e-04 - val_loss: 1.5645e-04\n",
      "Epoch 30/30\n",
      "28576/28576 [==============================] - 2s - loss: 2.7380e-04 - val_loss: 2.6313e-04\n"
     ]
    }
   ],
   "source": [
    "# Train Model\n",
    "log = model.fit(x_train, y_train,\n",
    "              batch_size=30,\n",
    "              epochs=30,\n",
    "              shuffle=True,\n",
    "              validation_data=(x_valid,y_valid))"
   ]
  },
  {
   "cell_type": "code",
   "execution_count": 13,
   "metadata": {
    "collapsed": true
   },
   "outputs": [],
   "source": [
    "model.save('model.h5')"
   ]
  },
  {
   "cell_type": "code",
   "execution_count": 11,
   "metadata": {
    "collapsed": false
   },
   "outputs": [
    {
     "data": {
      "text/plain": [
       "<matplotlib.text.Text at 0x7f21b8772650>"
      ]
     },
     "execution_count": 11,
     "metadata": {},
     "output_type": "execute_result"
    },
    {
     "data": {
      "image/png": "[encoded data removed]",
      "text/plain": [
       "<matplotlib.figure.Figure at 0x7f21bc7af0d0>"
      ]
     },
     "metadata": {},
     "output_type": "display_data"
    }
   ],
   "source": [
    "# Training Curves\n",
    "plt.figure(figsize=(5,4))\n",
    "plt.plot(log.epoch,log.history['loss'])\n",
    "# plt.plot(log.epoch,log.history['val_loss'],'g')\n",
    "plt.title('Training Curves')\n",
    "plt.xlabel('Epochs')\n",
    "plt.xlabel('MSE Loss')\n",
    "# plt.legend(['Train','Valid'])"
   ]
  },
  {
   "cell_type": "code",
   "execution_count": 14,
   "metadata": {
    "collapsed": false
   },
   "outputs": [
    {
     "data": {
      "image/png": "[encoded data removed]",
      "text/plain": [
       "<matplotlib.figure.Figure at 0x7f21ff772550>"
      ]
     },
     "metadata": {},
     "output_type": "display_data"
    }
   ],
   "source": [
    "# Generate Predictions for Test Set\n",
    "for i in range(5):\n",
    "    fname = 'test{}.csv'.format(i+1) \n",
    "    x_test,y_test=load_data(fname)\n",
    "    y_predict = model.predict(x_test)\n",
    "    loss = model.evaluate(x_test,y_test,verbose=0)\n",
    "    \n",
    "    plt.subplot(231+i)\n",
    "    plt.plot(y_test)\n",
    "    plt.plot(y_predict,'g')\n",
    "    header = '{0}, mse={1:.04f}'.format(fname,loss)\n",
    "    plt.title(header)\n",
    "    \n",
    "    oname = 'ypred{}.csv'.format(i+1)\n",
    "    tname = 'ytest{}.csv'.format(i+1)\n",
    "    np.savetxt(oname,y_predict,delimiter=',')\n",
    "    np.savetxt(tname,y_test,delimiter=',')\n",
    "    \n",
    "plt.legend(['Original','Predicted'],loc=2)\n",
    "plt.tight_layout()"
   ]
  },
  {
   "cell_type": "markdown",
   "metadata": {},
   "source": [
    "----"
   ]
  }
 ],
 "metadata": {
  "anaconda-cloud": {},
  "kernelspec": {
   "display_name": "Python [default]",
   "language": "python",
   "name": "python2"
  },
  "language_info": {
   "codemirror_mode": {
    "name": "ipython",
    "version": 2
   },
   "file_extension": ".py",
   "mimetype": "text/x-python",
   "name": "python",
   "nbconvert_exporter": "python",
   "pygments_lexer": "ipython2",
   "version": "2.7.12"
  }
 },
 "nbformat": 4,
 "nbformat_minor": 1
}
